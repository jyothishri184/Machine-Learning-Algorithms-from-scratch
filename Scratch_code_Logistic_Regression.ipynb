{
  "nbformat": 4,
  "nbformat_minor": 0,
  "metadata": {
    "colab": {
      "provenance": [],
      "authorship_tag": "ABX9TyO2haHPhbP4tiXi2yNjLBXI",
      "include_colab_link": true
    },
    "kernelspec": {
      "name": "python3",
      "display_name": "Python 3"
    },
    "language_info": {
      "name": "python"
    }
  },
  "cells": [
    {
      "cell_type": "markdown",
      "metadata": {
        "id": "view-in-github",
        "colab_type": "text"
      },
      "source": [
        "<a href=\"https://colab.research.google.com/github/jyothishri184/Machine-Learning-Algorithms-from-scratch/blob/main/Scratch_code_Logistic_Regression.ipynb\" target=\"_parent\"><img src=\"https://colab.research.google.com/assets/colab-badge.svg\" alt=\"Open In Colab\"/></a>"
      ]
    },
    {
      "cell_type": "code",
      "execution_count": null,
      "metadata": {
        "id": "TzQQC26lI5Kf"
      },
      "outputs": [],
      "source": [
        "import numpy as np\n",
        "import pandas as pd\n",
        "import matplotlib.pyplot as plt"
      ]
    },
    {
      "cell_type": "code",
      "source": [
        "x = np.array([1,2,3,4,5,6,7,8,9,10])\n",
        "y = np.array([0,0,0,0,1,1,1,1,1,1])"
      ],
      "metadata": {
        "id": "CGYlEh08JRZM"
      },
      "execution_count": null,
      "outputs": []
    },
    {
      "cell_type": "code",
      "source": [
        "def sigmoid(z):\n",
        "  return 1/(1 + np.exp(-z)) #for whole array np.exp(func)"
      ],
      "metadata": {
        "id": "mF8n3l2FJduw"
      },
      "execution_count": null,
      "outputs": []
    },
    {
      "cell_type": "code",
      "source": [
        "#design matrix\n",
        "x = np.column_stack((np.ones(x.shape[0]),x))\n",
        "x"
      ],
      "metadata": {
        "colab": {
          "base_uri": "https://localhost:8080/"
        },
        "id": "3uWZZSjtKh-V",
        "outputId": "32e8a511-d2f4-4e77-ef88-27894a9a043c"
      },
      "execution_count": null,
      "outputs": [
        {
          "output_type": "execute_result",
          "data": {
            "text/plain": [
              "array([[ 1.,  1.],\n",
              "       [ 1.,  2.],\n",
              "       [ 1.,  3.],\n",
              "       [ 1.,  4.],\n",
              "       [ 1.,  5.],\n",
              "       [ 1.,  6.],\n",
              "       [ 1.,  7.],\n",
              "       [ 1.,  8.],\n",
              "       [ 1.,  9.],\n",
              "       [ 1., 10.]])"
            ]
          },
          "metadata": {},
          "execution_count": 78
        }
      ]
    },
    {
      "cell_type": "code",
      "source": [
        "num_features = x.shape[1]\n",
        "print(num_features)\n",
        "params = np.zeros(num_features) #weights\n",
        "print(params)"
      ],
      "metadata": {
        "colab": {
          "base_uri": "https://localhost:8080/"
        },
        "id": "t6Kkf1FWKuas",
        "outputId": "7ba20425-a87a-4c55-ee14-cf5afedd1102"
      },
      "execution_count": null,
      "outputs": [
        {
          "output_type": "stream",
          "name": "stdout",
          "text": [
            "2\n",
            "[0. 0.]\n"
          ]
        }
      ]
    },
    {
      "cell_type": "code",
      "source": [
        "learning_rate = 0.1 #after hyperparameter tuning 0.1 is better than 0.001\n",
        "num_iterations = 10000"
      ],
      "metadata": {
        "id": "9cYOXbqJLI4g"
      },
      "execution_count": null,
      "outputs": []
    },
    {
      "cell_type": "code",
      "source": [
        "for i in range(num_iterations):\n",
        "  z = np.dot(x,params)\n",
        "  y_pred=sigmoid(z)\n",
        "  gradient = np.dot(x.T,(y_pred-y))/len(y)\n",
        "  params-=learning_rate*gradient\n",
        "print(params)"
      ],
      "metadata": {
        "colab": {
          "base_uri": "https://localhost:8080/"
        },
        "id": "Cijv5aleLccW",
        "outputId": "a7d07c90-5f77-4017-ad8d-97a2ad1cf1cc"
      },
      "execution_count": null,
      "outputs": [
        {
          "output_type": "stream",
          "name": "stdout",
          "text": [
            "[-13.05855031   2.93451597]\n"
          ]
        }
      ]
    },
    {
      "cell_type": "code",
      "source": [
        "x_range = np.linspace(x[:,1].min()-1,x[:,1].max()+1,100)\n",
        "print(x_range)\n",
        "y_range = sigmoid(params[0]+params[1]*x_range) #y=mx+c\n",
        "print(y_range)"
      ],
      "metadata": {
        "colab": {
          "base_uri": "https://localhost:8080/"
        },
        "id": "vCjwM73JMUed",
        "outputId": "31fcdef2-df67-4abe-9a01-609abb1e8992"
      },
      "execution_count": null,
      "outputs": [
        {
          "output_type": "stream",
          "name": "stdout",
          "text": [
            "[ 0.          0.11111111  0.22222222  0.33333333  0.44444444  0.55555556\n",
            "  0.66666667  0.77777778  0.88888889  1.          1.11111111  1.22222222\n",
            "  1.33333333  1.44444444  1.55555556  1.66666667  1.77777778  1.88888889\n",
            "  2.          2.11111111  2.22222222  2.33333333  2.44444444  2.55555556\n",
            "  2.66666667  2.77777778  2.88888889  3.          3.11111111  3.22222222\n",
            "  3.33333333  3.44444444  3.55555556  3.66666667  3.77777778  3.88888889\n",
            "  4.          4.11111111  4.22222222  4.33333333  4.44444444  4.55555556\n",
            "  4.66666667  4.77777778  4.88888889  5.          5.11111111  5.22222222\n",
            "  5.33333333  5.44444444  5.55555556  5.66666667  5.77777778  5.88888889\n",
            "  6.          6.11111111  6.22222222  6.33333333  6.44444444  6.55555556\n",
            "  6.66666667  6.77777778  6.88888889  7.          7.11111111  7.22222222\n",
            "  7.33333333  7.44444444  7.55555556  7.66666667  7.77777778  7.88888889\n",
            "  8.          8.11111111  8.22222222  8.33333333  8.44444444  8.55555556\n",
            "  8.66666667  8.77777778  8.88888889  9.          9.11111111  9.22222222\n",
            "  9.33333333  9.44444444  9.55555556  9.66666667  9.77777778  9.88888889\n",
            " 10.         10.11111111 10.22222222 10.33333333 10.44444444 10.55555556\n",
            " 10.66666667 10.77777778 10.88888889 11.        ]\n",
            "[2.13178171e-06 2.95357004e-06 4.09215126e-06 5.66964534e-06\n",
            " 7.85524694e-06 1.08833708e-05 1.50787904e-05 2.08914641e-05\n",
            " 2.89447818e-05 4.01023970e-05 5.55608035e-05 7.69775554e-05\n",
            " 1.06648838e-04 1.47755335e-04 2.04702588e-04 2.83591992e-04\n",
            " 3.92872280e-04 5.44240074e-04 7.53883624e-04 1.04419838e-03\n",
            " 1.44614929e-03 2.00251595e-03 2.77233530e-03 3.83695550e-03\n",
            " 5.30823034e-03 7.33950671e-03 1.01401584e-02 1.39944327e-02\n",
            " 1.92851745e-02 2.65223330e-02 3.63746518e-02 4.96999858e-02\n",
            " 6.75645958e-02 9.12341300e-02 1.22109777e-01 1.61576616e-01\n",
            " 2.10737373e-01 2.70038133e-01 3.38861521e-01 4.15247378e-01\n",
            " 4.95935808e-01 5.76836493e-01 6.53816451e-01 7.23505029e-01\n",
            " 7.83803764e-01 8.33970081e-01 8.74361685e-01 9.06034031e-01\n",
            " 9.30357993e-01 9.48741691e-01 9.62468334e-01 9.72625135e-01\n",
            " 9.80090167e-01 9.85549754e-01 9.89528233e-01 9.92419771e-01\n",
            " 9.94517302e-01 9.96036741e-01 9.97136305e-01 9.97931441e-01\n",
            " 9.98506129e-01 9.98921330e-01 9.99221221e-01 9.99437784e-01\n",
            " 9.99594149e-01 9.99707038e-01 9.99788534e-01 9.99847362e-01\n",
            " 9.99889827e-01 9.99920479e-01 9.99942603e-01 9.99958572e-01\n",
            " 9.99970099e-01 9.99978418e-01 9.99984423e-01 9.99988757e-01\n",
            " 9.99991885e-01 9.99994143e-01 9.99995773e-01 9.99996949e-01\n",
            " 9.99997798e-01 9.99998411e-01 9.99998853e-01 9.99999172e-01\n",
            " 9.99999402e-01 9.99999569e-01 9.99999689e-01 9.99999775e-01\n",
            " 9.99999838e-01 9.99999883e-01 9.99999916e-01 9.99999939e-01\n",
            " 9.99999956e-01 9.99999968e-01 9.99999977e-01 9.99999983e-01\n",
            " 9.99999988e-01 9.99999991e-01 9.99999994e-01 9.99999996e-01]\n"
          ]
        }
      ]
    },
    {
      "cell_type": "code",
      "source": [
        "plt.plot(x_range,y_range,label='LOGISTIC REGRESSION CURVE',color='blue')"
      ],
      "metadata": {
        "colab": {
          "base_uri": "https://localhost:8080/",
          "height": 447
        },
        "id": "de-bNr4fNcm7",
        "outputId": "fd00fadd-2971-4640-f1ed-114fcf0912b9"
      },
      "execution_count": null,
      "outputs": [
        {
          "output_type": "execute_result",
          "data": {
            "text/plain": [
              "[<matplotlib.lines.Line2D at 0x79ee968eb250>]"
            ]
          },
          "metadata": {},
          "execution_count": 73
        },
        {
          "output_type": "display_data",
          "data": {
            "text/plain": [
              "<Figure size 640x480 with 1 Axes>"
            ],
            "image/png": "[encoded data removed]"
          },
          "metadata": {}
        }
      ]
    },
    {
      "cell_type": "code",
      "source": [
        "plt.plot(x_range,y_range,label='LOGISTIC REGRESSION CURVE',color='red')\n",
        "plt.scatter(x[y==0][:,1],y[y==0],label='class 0',color='green')\n",
        "plt.scatter(x[y==1][:,1],y[y==1],label='class 1',color='red')\n",
        "plt.xlabel('Feature')\n",
        "plt.ylabel('Probability (Y)')\n",
        "plt.legend()\n",
        "plt.title('Logistic Regression Curve')\n",
        "plt.grid(True)"
      ],
      "metadata": {
        "colab": {
          "base_uri": "https://localhost:8080/",
          "height": 472
        },
        "id": "LI7TYMA_N95O",
        "outputId": "575141d8-a2b5-46aa-e1c0-bf3a63b07af6"
      },
      "execution_count": null,
      "outputs": [
        {
          "output_type": "display_data",
          "data": {
            "text/plain": [
              "<Figure size 640x480 with 1 Axes>"
            ],
            "image/png": "[encoded data removed]"
          },
          "metadata": {}
        }
      ]
    },
    {
      "cell_type": "code",
      "source": [],
      "metadata": {
        "id": "tOFpr2WxOqqZ"
      },
      "execution_count": null,
      "outputs": []
    }
  ]
}